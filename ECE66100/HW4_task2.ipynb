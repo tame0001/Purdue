{
 "nbformat": 4,
 "nbformat_minor": 2,
 "metadata": {
  "language_info": {
   "name": "python",
   "codemirror_mode": {
    "name": "ipython",
    "version": 3
   },
   "version": "3.7.6-final"
  },
  "orig_nbformat": 2,
  "file_extension": ".py",
  "mimetype": "text/x-python",
  "name": "python",
  "npconvert_exporter": "python",
  "pygments_lexer": "ipython3",
  "version": 3,
  "kernelspec": {
   "name": "python37664bitece595conda838367ab88354209b4fac951afea76c5",
   "display_name": "Python 3.7.6 64-bit ('ece595': conda)"
  }
 },
 "cells": [
  {
   "cell_type": "code",
   "execution_count": 39,
   "metadata": {},
   "outputs": [],
   "source": [
    "# Import necessary libraries\n",
    "import numpy as np\n",
    "import cv2 as cv\n",
    "import matplotlib.pyplot as plt\n",
    "from scipy import signal"
   ]
  },
  {
   "cell_type": "code",
   "execution_count": 40,
   "metadata": {},
   "outputs": [],
   "source": [
    "class Pixel():\n",
    "    '''\n",
    "    Class for keeping pixel cooridinate\n",
    "    '''\n",
    "\n",
    "    def __init__(self, kp):\n",
    "        self.x = int(kp.pt[0])\n",
    "        self.y = int(kp.pt[1])\n",
    "        self.point = (self.x, self.y)\n",
    "\n",
    "    def __repr__(self):\n",
    "        return f'({self.x}, {self.y})'\n",
    "\n",
    "    def adjust_width(self, width):\n",
    "        x = self.x + width\n",
    "        return (x, self.y)"
   ]
  },
  {
   "cell_type": "code",
   "execution_count": 41,
   "metadata": {},
   "outputs": [],
   "source": [
    "class SIFT():\n",
    "    '''\n",
    "    Class for implimenting SIFT.\n",
    "    '''\n",
    "    \n",
    "    def __init__(self):\n",
    "        pass\n",
    "\n",
    "    def extract_feature(self, image):\n",
    "        gray_image = cv.cvtColor(image, cv.COLOR_BGR2GRAY)\n",
    "        features = cv.xfeatures2d.SIFT_create()\n",
    "        kp, des = features.detectAndCompute(gray_image, None)\n",
    "        \n",
    "        return [kp, des]\n",
    "\n",
    "    def find_pairs(self, image1, image2, theshore):\n",
    "        kp1, des1 = self.extract_feature(image1)\n",
    "        kp2, des2 = self.extract_feature(image2)\n",
    "\n",
    "        if len(kp1) < len(kp2):\n",
    "            kpA = kp1\n",
    "            kpB = kp2\n",
    "            desA = des1\n",
    "            desB = des2\n",
    "            imageA = image1\n",
    "            imageB = image2\n",
    "        else:\n",
    "            kpA = kp2\n",
    "            kpB = kp1\n",
    "            desA = des2\n",
    "            desB = des1\n",
    "            imageA = image2\n",
    "            imageB = image1\n",
    "\n",
    "        pairs = []\n",
    "        for inx_a , des_a in enumerate(desA):\n",
    "            min_distance = 1000000000\n",
    "            best_candidate = None\n",
    "            for inx_b , des_b in enumerate(desB):\n",
    "                distance = np.linalg.norm(des_a - des_b)\n",
    "                if distance < min_distance:\n",
    "                    min_distance = distance\n",
    "                    best_candidate = inx_b\n",
    "            if min_distance < theshore:\n",
    "                pairs.append((Pixel(kpA[inx_a]), Pixel(kpB[best_candidate])))\n",
    "        \n",
    "        return [pairs, imageA, imageB]\n"
   ]
  },
  {
   "cell_type": "code",
   "execution_count": 42,
   "metadata": {},
   "outputs": [],
   "source": [
    "class Image(SIFT):\n",
    "    ''' \n",
    "    Class for store images and related parameters.\n",
    "    '''\n",
    "\n",
    "    FILEPATH = 'ece661_pics\\\\hw4_image\\\\'\n",
    "    FILETYPE = '.png'\n",
    "\n",
    "    def __init__(self, file1, file2, savename, theshore):\n",
    "        self.file1 = file1\n",
    "        self.file2 = file2\n",
    "        self.load_images()\n",
    "        self.savename = savename\n",
    "        self.theshore = theshore\n",
    "\n",
    "    def load_images(self):\n",
    "        self.image1 = cv.imread(self.FILEPATH + self.file1)\n",
    "        self.image2 = cv.imread(self.FILEPATH + self.file2)\n",
    "        self.image = cv.hconcat([self.image1, self.image2])\n",
    "\n",
    "    def show_image(self, image=0):\n",
    "        if image == 1:\n",
    "            plt.imshow(cv.cvtColor(self.image1, cv.COLOR_BGR2RGB))\n",
    "        elif image == 2:\n",
    "            plt.imshow(cv.cvtColor(self.image2, cv.COLOR_BGR2RGB))\n",
    "        elif image == 0:\n",
    "            plt.imshow(cv.cvtColor(self.image, cv.COLOR_BGR2RGB))\n",
    "\n",
    "    def process_sift(self):\n",
    "        [pairs, imageA, imageB] = SIFT.find_pairs(self, self.image1, self.image2, self.theshore)\n",
    "        image = self.mark_pairs(pairs, imageA, imageB)\n",
    "        plt.imshow(cv.cvtColor(image, cv.COLOR_BGR2RGB))\n",
    "        savename = f'{self.FILEPATH}{self.savename}_sift{self.FILETYPE}'\n",
    "        cv.imwrite(savename, image.astype(np.int))\n",
    "\n",
    "    def mark_pairs(self, pairs, imageA, imageB):\n",
    "        radius = 2\n",
    "        thickness = 1\n",
    "        image = cv.hconcat([imageA, imageB])\n",
    "        w = imageA.shape[1]\n",
    "        for pair in pairs:\n",
    "            color = (0, 0, 255)\n",
    "            cv.circle(image, pair[0].point, radius, color, thickness)\n",
    "            cv.circle(image, pair[1].adjust_width(w), radius, color, thickness)\n",
    "            cv.line(image, pair[0].point, pair[1].adjust_width(w), color, thickness)\n",
    "\n",
    "        return image\n"
   ]
  },
  {
   "cell_type": "code",
   "execution_count": 56,
   "metadata": {},
   "outputs": [],
   "source": [
    "images = [\n",
    "    Image('pair1\\\\1.jpg', 'pair1\\\\2.jpg', 'hw4_task2_1', 100),\n",
    "    Image('pair2\\\\1.jpg', 'pair2\\\\2.jpg', 'hw4_task2_2', 150),\n",
    "    Image('pair3\\\\1.jpg', 'pair3\\\\2.jpg', 'hw4_task2_3', 80),\n",
    "    Image('pair4\\\\1.jpg', 'pair4\\\\2.jpg', 'hw4_task2_4', 100),\n",
    "    Image('pair5\\\\1.jpg', 'pair5\\\\2.jpg', 'hw4_task2_5', 200),\n",
    "    Image('pair6\\\\1.jpg', 'pair6\\\\2.jpg', 'hw4_task2_6', 30)]"
   ]
  },
  {
   "cell_type": "code",
   "execution_count": 23,
   "metadata": {},
   "outputs": [
    {
     "ename": "KeyboardInterrupt",
     "evalue": "",
     "output_type": "error",
     "traceback": [
      "\u001b[1;31m---------------------------------------------------------------------------\u001b[0m",
      "\u001b[1;31mKeyboardInterrupt\u001b[0m                         Traceback (most recent call last)",
      "\u001b[1;32m<ipython-input-23-fe3a9feb056d>\u001b[0m in \u001b[0;36m<module>\u001b[1;34m\u001b[0m\n\u001b[0;32m      1\u001b[0m \u001b[1;32mfor\u001b[0m \u001b[0mimage\u001b[0m \u001b[1;32min\u001b[0m \u001b[0mimages\u001b[0m\u001b[1;33m:\u001b[0m\u001b[1;33m\u001b[0m\u001b[1;33m\u001b[0m\u001b[0m\n\u001b[1;32m----> 2\u001b[1;33m     \u001b[0mimage\u001b[0m\u001b[1;33m.\u001b[0m\u001b[0mprocess_sift\u001b[0m\u001b[1;33m(\u001b[0m\u001b[1;33m)\u001b[0m\u001b[1;33m\u001b[0m\u001b[1;33m\u001b[0m\u001b[0m\n\u001b[0m",
      "\u001b[1;32m<ipython-input-21-bc8a0d232cff>\u001b[0m in \u001b[0;36mprocess_sift\u001b[1;34m(self)\u001b[0m\n\u001b[0;32m     28\u001b[0m \u001b[1;33m\u001b[0m\u001b[0m\n\u001b[0;32m     29\u001b[0m     \u001b[1;32mdef\u001b[0m \u001b[0mprocess_sift\u001b[0m\u001b[1;33m(\u001b[0m\u001b[0mself\u001b[0m\u001b[1;33m)\u001b[0m\u001b[1;33m:\u001b[0m\u001b[1;33m\u001b[0m\u001b[1;33m\u001b[0m\u001b[0m\n\u001b[1;32m---> 30\u001b[1;33m         \u001b[1;33m[\u001b[0m\u001b[0mpairs\u001b[0m\u001b[1;33m,\u001b[0m \u001b[0mimageA\u001b[0m\u001b[1;33m,\u001b[0m \u001b[0mimageB\u001b[0m\u001b[1;33m]\u001b[0m \u001b[1;33m=\u001b[0m \u001b[0mSIFT\u001b[0m\u001b[1;33m.\u001b[0m\u001b[0mfind_pairs\u001b[0m\u001b[1;33m(\u001b[0m\u001b[0mself\u001b[0m\u001b[1;33m,\u001b[0m \u001b[0mself\u001b[0m\u001b[1;33m.\u001b[0m\u001b[0mimage1\u001b[0m\u001b[1;33m,\u001b[0m \u001b[0mself\u001b[0m\u001b[1;33m.\u001b[0m\u001b[0mimage2\u001b[0m\u001b[1;33m,\u001b[0m \u001b[0mself\u001b[0m\u001b[1;33m.\u001b[0m\u001b[0mtheshore\u001b[0m\u001b[1;33m)\u001b[0m\u001b[1;33m\u001b[0m\u001b[1;33m\u001b[0m\u001b[0m\n\u001b[0m\u001b[0;32m     31\u001b[0m         \u001b[0mimage\u001b[0m \u001b[1;33m=\u001b[0m \u001b[0mself\u001b[0m\u001b[1;33m.\u001b[0m\u001b[0mmark_pairs\u001b[0m\u001b[1;33m(\u001b[0m\u001b[0mpairs\u001b[0m\u001b[1;33m,\u001b[0m \u001b[0mimageA\u001b[0m\u001b[1;33m,\u001b[0m \u001b[0mimageB\u001b[0m\u001b[1;33m)\u001b[0m\u001b[1;33m\u001b[0m\u001b[1;33m\u001b[0m\u001b[0m\n\u001b[0;32m     32\u001b[0m         \u001b[1;31m# plt.imshow(cv.cvtColor(image, cv.COLOR_BGR2RGB))\u001b[0m\u001b[1;33m\u001b[0m\u001b[1;33m\u001b[0m\u001b[1;33m\u001b[0m\u001b[0m\n",
      "\u001b[1;32m<ipython-input-17-4930fdc6502b>\u001b[0m in \u001b[0;36mfind_pairs\u001b[1;34m(self, image1, image2, theshore)\u001b[0m\n\u001b[0;32m     38\u001b[0m             \u001b[0mbest_candidate\u001b[0m \u001b[1;33m=\u001b[0m \u001b[1;32mNone\u001b[0m\u001b[1;33m\u001b[0m\u001b[1;33m\u001b[0m\u001b[0m\n\u001b[0;32m     39\u001b[0m             \u001b[1;32mfor\u001b[0m \u001b[0minx_b\u001b[0m \u001b[1;33m,\u001b[0m \u001b[0mdes_b\u001b[0m \u001b[1;32min\u001b[0m \u001b[0menumerate\u001b[0m\u001b[1;33m(\u001b[0m\u001b[0mdesB\u001b[0m\u001b[1;33m)\u001b[0m\u001b[1;33m:\u001b[0m\u001b[1;33m\u001b[0m\u001b[1;33m\u001b[0m\u001b[0m\n\u001b[1;32m---> 40\u001b[1;33m                 \u001b[0mdistance\u001b[0m \u001b[1;33m=\u001b[0m \u001b[0mnp\u001b[0m\u001b[1;33m.\u001b[0m\u001b[0mlinalg\u001b[0m\u001b[1;33m.\u001b[0m\u001b[0mnorm\u001b[0m\u001b[1;33m(\u001b[0m\u001b[0mdes_a\u001b[0m \u001b[1;33m-\u001b[0m \u001b[0mdes_b\u001b[0m\u001b[1;33m)\u001b[0m\u001b[1;33m\u001b[0m\u001b[1;33m\u001b[0m\u001b[0m\n\u001b[0m\u001b[0;32m     41\u001b[0m                 \u001b[1;32mif\u001b[0m \u001b[0mdistance\u001b[0m \u001b[1;33m<\u001b[0m \u001b[0mmin_distance\u001b[0m\u001b[1;33m:\u001b[0m\u001b[1;33m\u001b[0m\u001b[1;33m\u001b[0m\u001b[0m\n\u001b[0;32m     42\u001b[0m                     \u001b[0mmin_distance\u001b[0m \u001b[1;33m=\u001b[0m \u001b[0mdistance\u001b[0m\u001b[1;33m\u001b[0m\u001b[1;33m\u001b[0m\u001b[0m\n",
      "\u001b[1;32m<__array_function__ internals>\u001b[0m in \u001b[0;36mnorm\u001b[1;34m(*args, **kwargs)\u001b[0m\n",
      "\u001b[1;32m~\\AppData\\Local\\conda\\conda\\envs\\ece595\\lib\\site-packages\\numpy\\linalg\\linalg.py\u001b[0m in \u001b[0;36mnorm\u001b[1;34m(x, ord, axis, keepdims)\u001b[0m\n\u001b[0;32m   2474\u001b[0m                 \u001b[0msqnorm\u001b[0m \u001b[1;33m=\u001b[0m \u001b[0mdot\u001b[0m\u001b[1;33m(\u001b[0m\u001b[0mx\u001b[0m\u001b[1;33m.\u001b[0m\u001b[0mreal\u001b[0m\u001b[1;33m,\u001b[0m \u001b[0mx\u001b[0m\u001b[1;33m.\u001b[0m\u001b[0mreal\u001b[0m\u001b[1;33m)\u001b[0m \u001b[1;33m+\u001b[0m \u001b[0mdot\u001b[0m\u001b[1;33m(\u001b[0m\u001b[0mx\u001b[0m\u001b[1;33m.\u001b[0m\u001b[0mimag\u001b[0m\u001b[1;33m,\u001b[0m \u001b[0mx\u001b[0m\u001b[1;33m.\u001b[0m\u001b[0mimag\u001b[0m\u001b[1;33m)\u001b[0m\u001b[1;33m\u001b[0m\u001b[1;33m\u001b[0m\u001b[0m\n\u001b[0;32m   2475\u001b[0m             \u001b[1;32melse\u001b[0m\u001b[1;33m:\u001b[0m\u001b[1;33m\u001b[0m\u001b[1;33m\u001b[0m\u001b[0m\n\u001b[1;32m-> 2476\u001b[1;33m                 \u001b[0msqnorm\u001b[0m \u001b[1;33m=\u001b[0m \u001b[0mdot\u001b[0m\u001b[1;33m(\u001b[0m\u001b[0mx\u001b[0m\u001b[1;33m,\u001b[0m \u001b[0mx\u001b[0m\u001b[1;33m)\u001b[0m\u001b[1;33m\u001b[0m\u001b[1;33m\u001b[0m\u001b[0m\n\u001b[0m\u001b[0;32m   2477\u001b[0m             \u001b[0mret\u001b[0m \u001b[1;33m=\u001b[0m \u001b[0msqrt\u001b[0m\u001b[1;33m(\u001b[0m\u001b[0msqnorm\u001b[0m\u001b[1;33m)\u001b[0m\u001b[1;33m\u001b[0m\u001b[1;33m\u001b[0m\u001b[0m\n\u001b[0;32m   2478\u001b[0m             \u001b[1;32mif\u001b[0m \u001b[0mkeepdims\u001b[0m\u001b[1;33m:\u001b[0m\u001b[1;33m\u001b[0m\u001b[1;33m\u001b[0m\u001b[0m\n",
      "\u001b[1;32m<__array_function__ internals>\u001b[0m in \u001b[0;36mdot\u001b[1;34m(*args, **kwargs)\u001b[0m\n",
      "\u001b[1;31mKeyboardInterrupt\u001b[0m: "
     ]
    }
   ],
   "source": [
    "for image in images:\n",
    "    image.process_sift()"
   ]
  },
  {
   "cell_type": "code",
   "execution_count": null,
   "metadata": {},
   "outputs": [],
   "source": []
  }
 ]
}