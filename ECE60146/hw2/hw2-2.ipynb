{
 "cells": [
  {
   "cell_type": "code",
   "execution_count": null,
   "metadata": {},
   "outputs": [],
   "source": [
    "from PIL import Image\n",
    "from pathlib import Path"
   ]
  },
  {
   "cell_type": "code",
   "execution_count": null,
   "metadata": {},
   "outputs": [],
   "source": [
    "import numpy as np\n",
    "import torch\n",
    "import torchvision.transforms as tvt\n",
    "from scipy.stats import wasserstein_distance"
   ]
  },
  {
   "cell_type": "code",
   "execution_count": null,
   "metadata": {},
   "outputs": [],
   "source": [
    "folder = Path('.') / 'hw2'"
   ]
  },
  {
   "cell_type": "code",
   "execution_count": null,
   "metadata": {},
   "outputs": [],
   "source": [
    "for x in folder.iterdir():\n",
    "    print(x)"
   ]
  },
  {
   "cell_type": "code",
   "execution_count": null,
   "metadata": {},
   "outputs": [],
   "source": [
    "stop_sign_1 = Image.open(folder / 'stop_sign1.jpg')"
   ]
  },
  {
   "cell_type": "code",
   "execution_count": null,
   "metadata": {},
   "outputs": [],
   "source": [
    "stop_sign_1"
   ]
  },
  {
   "cell_type": "code",
   "execution_count": null,
   "metadata": {},
   "outputs": [],
   "source": [
    "# stop_sign_1.crop((400, 950, 870, 1420))"
   ]
  },
  {
   "cell_type": "code",
   "execution_count": null,
   "metadata": {},
   "outputs": [],
   "source": [
    "stop_sign_2 = Image.open(folder / 'stop_sign2.jpg')"
   ]
  },
  {
   "cell_type": "code",
   "execution_count": null,
   "metadata": {},
   "outputs": [],
   "source": [
    "stop_sign_2"
   ]
  },
  {
   "cell_type": "code",
   "execution_count": null,
   "metadata": {},
   "outputs": [],
   "source": [
    "# stop_sign_2.crop((573, 1005, 702, 1179))"
   ]
  },
  {
   "cell_type": "code",
   "execution_count": null,
   "metadata": {},
   "outputs": [],
   "source": [
    "def find_w_dist(image_a, image_b):\n",
    "    num_bins = 10\n",
    "    distance = []\n",
    "    # compose transformation\n",
    "    transfrom = tvt.Compose([\n",
    "        tvt.ToTensor(), \n",
    "        tvt.Normalize([0.5, 0.5, 0.5], [0.5, 0.5, 0.5])\n",
    "        ])\n",
    "    # transfrom both images\n",
    "    image_a = transfrom(image_a)\n",
    "    image_b = transfrom(image_b)\n",
    "    # find Wasserstein distance one channel at a time\n",
    "    for ch in range(3):\n",
    "        hist_a = torch.histc(image_a[ch], bins=num_bins, min=-1, max=-1)\n",
    "        hist_a = hist_a.div(hist_a.sum())\n",
    "        hist_b = torch.histc(image_b[ch], bins=num_bins, min=-1, max=-1)\n",
    "        hist_b = hist_b.div(hist_b.sum())\n",
    "        \n",
    "        distance.append(wasserstein_distance(\n",
    "            hist_a.numpy(),\n",
    "            hist_b.numpy()\n",
    "        ))\n",
    "    # print out the sumation of Wasserstein distance from all 3 channels\n",
    "    print(f'Sum of Wasserstein distance is: {sum(distance):.3f}')"
   ]
  },
  {
   "cell_type": "code",
   "execution_count": null,
   "metadata": {},
   "outputs": [],
   "source": [
    "find_w_dist(stop_sign_1, stop_sign_2)"
   ]
  },
  {
   "cell_type": "code",
   "execution_count": null,
   "metadata": {},
   "outputs": [],
   "source": [
    "persective_image = tvt.functional.perspective(\n",
    "    stop_sign_2,\n",
    "    [[185, 164], [317, 238], [317, 349], [186, 296]],\n",
    "    [[44, 169], [458, 167], [464, 335], [41, 338]]\n",
    ")"
   ]
  },
  {
   "cell_type": "code",
   "execution_count": null,
   "metadata": {},
   "outputs": [],
   "source": [
    "persective_image.save(folder / 'persective_image.png')"
   ]
  },
  {
   "cell_type": "code",
   "execution_count": null,
   "metadata": {},
   "outputs": [],
   "source": [
    "find_w_dist(stop_sign_1, persective_image)"
   ]
  },
  {
   "cell_type": "code",
   "execution_count": null,
   "metadata": {},
   "outputs": [],
   "source": [
    "affine_transfomer = tvt.RandomAffine(degrees=(0, 180), translate=(0.1, 0.3))\n",
    "for _ in range(10):\n",
    "    affime_image = affine_transfomer(stop_sign_2)\n",
    "    find_w_dist(stop_sign_1, affime_image)\n"
   ]
  }
 ],
 "metadata": {
  "kernelspec": {
   "display_name": "ece60146",
   "language": "python",
   "name": "python3"
  },
  "language_info": {
   "codemirror_mode": {
    "name": "ipython",
    "version": 3
   },
   "file_extension": ".py",
   "mimetype": "text/x-python",
   "name": "python",
   "nbconvert_exporter": "python",
   "pygments_lexer": "ipython3",
   "version": "3.8.16"
  },
  "orig_nbformat": 4,
  "vscode": {
   "interpreter": {
    "hash": "53b8e87ed6bba06d3e94ec2c693232aaf574cb35f6b1581e5f278dc64d27acc5"
   }
  }
 },
 "nbformat": 4,
 "nbformat_minor": 2
}
