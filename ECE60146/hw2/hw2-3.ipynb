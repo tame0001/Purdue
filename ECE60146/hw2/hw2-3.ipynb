{
 "cells": [
  {
   "cell_type": "code",
   "execution_count": null,
   "metadata": {},
   "outputs": [],
   "source": [
    "import random\n",
    "import torch\n",
    "import torchvision.transforms as tvt\n",
    "from torch.utils.data import Dataset, DataLoader\n"
   ]
  },
  {
   "cell_type": "code",
   "execution_count": null,
   "metadata": {},
   "outputs": [],
   "source": [
    "from PIL import Image\n",
    "from pathlib import Path"
   ]
  },
  {
   "cell_type": "code",
   "execution_count": null,
   "metadata": {},
   "outputs": [],
   "source": [
    "class DemoDataset(Dataset):\n",
    "    def __init__(self, path) -> None:\n",
    "        super().__init__()\n",
    "        # define a folder\n",
    "        self.folder = Path('.') / path\n",
    "        self.filenames = [] # keep filename\n",
    "        for filename in self.folder.iterdir():\n",
    "            # filter some images out\n",
    "            if filename.name[:3] == 'PXL':\n",
    "                self.filenames.append(filename)\n",
    "\n",
    "        self.augment = tvt.Compose([\n",
    "            tvt.Resize([640, 360]), # keep 16:9 ratio\n",
    "            # reduce brightness and saturation upto half\n",
    "            tvt.ColorJitter(brightness=(0.5, 1), saturation =(0.5, 1)),\n",
    "            tvt.transforms.RandomHorizontalFlip(0.5), # 50% chance to flip\n",
    "            tvt.RandomCrop(size=(256, 256)), # crop to 256x256\n",
    "            tvt.RandomPerspective(distortion_scale=0.2), # add distrotion\n",
    "            tvt.ToTensor(),\n",
    "            ])\n",
    "        \n",
    "    def __len__(self):\n",
    "        # assuming there are 1000 samples\n",
    "        return 1000\n",
    "\n",
    "    def __getitem__(self, index):\n",
    "        index = index % len(self.filenames)\n",
    "        image = Image.open(self.filenames[index])\n",
    "        tensor = self.augment(image)\n",
    "        target = random.randint(0, 10)\n",
    "        return tensor, target\n",
    "        "
   ]
  },
  {
   "cell_type": "code",
   "execution_count": null,
   "metadata": {},
   "outputs": [],
   "source": [
    "dataset = DemoDataset('hw2')"
   ]
  },
  {
   "cell_type": "code",
   "execution_count": null,
   "metadata": {},
   "outputs": [],
   "source": [
    "len(dataset)"
   ]
  },
  {
   "cell_type": "code",
   "execution_count": null,
   "metadata": {},
   "outputs": [],
   "source": [
    "data = dataset[9][0]\n",
    "tvt.ToPILImage()(data).save(Path('.') / 'temp.png')"
   ]
  },
  {
   "cell_type": "code",
   "execution_count": null,
   "metadata": {},
   "outputs": [],
   "source": [
    "dataloader = DataLoader(dataset, batch_size=4, shuffle=True)"
   ]
  },
  {
   "cell_type": "code",
   "execution_count": null,
   "metadata": {},
   "outputs": [],
   "source": [
    "batch = next(iter(dataloader))"
   ]
  },
  {
   "cell_type": "code",
   "execution_count": null,
   "metadata": {},
   "outputs": [],
   "source": [
    "for id, sample in enumerate(batch[0]):\n",
    "    tvt.ToPILImage()(sample).save(Path('.') / f'temp{id}.png')\n"
   ]
  },
  {
   "cell_type": "code",
   "execution_count": null,
   "metadata": {},
   "outputs": [],
   "source": [
    "start_time = time.time()\n",
    "for index in range(1000):\n",
    "    data = dataset[index]\n",
    "print(f'Loading 1,000 samples by calling dataset takes {(time.time()-start_time):.2f} seconds')"
   ]
  },
  {
   "cell_type": "code",
   "execution_count": null,
   "metadata": {},
   "outputs": [],
   "source": [
    "for worker in [1, 2, 4, 8]:\n",
    "    for batch_size in [1, 4, 16, 64]:\n",
    "        dataloader = DataLoader(dataset, batch_size=batch_size, num_workers=worker, shuffle=True)\n",
    "        start_time = time.time()\n",
    "        for tensors, targets in dataloader:\n",
    "            pass\n",
    "        print('Loading 1,000 samples by dataload batch size = {} '\n",
    "        'and number workers = {} takes {:.3f} seconds'\n",
    "        .format(batch_size, worker, time.time()-start_time))"
   ]
  }
 ],
 "metadata": {
  "kernelspec": {
   "display_name": "ece60146",
   "language": "python",
   "name": "python3"
  },
  "language_info": {
   "codemirror_mode": {
    "name": "ipython",
    "version": 3
   },
   "file_extension": ".py",
   "mimetype": "text/x-python",
   "name": "python",
   "nbconvert_exporter": "python",
   "pygments_lexer": "ipython3",
   "version": "3.8.16"
  },
  "orig_nbformat": 4,
  "vscode": {
   "interpreter": {
    "hash": "53b8e87ed6bba06d3e94ec2c693232aaf574cb35f6b1581e5f278dc64d27acc5"
   }
  }
 },
 "nbformat": 4,
 "nbformat_minor": 2
}
