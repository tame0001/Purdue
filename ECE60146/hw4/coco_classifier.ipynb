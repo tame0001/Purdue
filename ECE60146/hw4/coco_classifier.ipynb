{
 "cells": [
  {
   "cell_type": "code",
   "execution_count": null,
   "metadata": {},
   "outputs": [],
   "source": [
    "import torch\n",
    "from torch import nn\n",
    "import torch.nn.functional as F\n",
    "from torch.utils.data import Dataset, DataLoader\n",
    "import torchvision.transforms as tvt"
   ]
  },
  {
   "cell_type": "code",
   "execution_count": null,
   "metadata": {},
   "outputs": [],
   "source": [
    "import re\n",
    "from pathlib import Path\n",
    "from PIL import Image"
   ]
  },
  {
   "cell_type": "code",
   "execution_count": null,
   "metadata": {},
   "outputs": [],
   "source": [
    "device = \"cuda:1\" if torch.cuda.is_available() else \"cpu\"\n",
    "print(f\"Using {device} device\")"
   ]
  },
  {
   "cell_type": "code",
   "execution_count": null,
   "metadata": {},
   "outputs": [],
   "source": [
    "class HW4Dataset(Dataset):\n",
    "    LABELS = ['airplane', 'bus', 'cat', 'dog', 'pizza']\n",
    "    def __init__(self, path, dataset) -> None:\n",
    "        super().__init__()\n",
    "        # define a folder\n",
    "        self.folder = Path('/home/tam') / path\n",
    "        self.filenames = [] # keep filename\n",
    "        for filename in self.folder.iterdir():\n",
    "            if re.findall(r'(\\w+)-(\\w+)-(\\d+)', filename.stem)[0][0] == dataset:\n",
    "                self.filenames.append(filename)\n",
    "                \n",
    "        self.augment = tvt.Compose([\n",
    "            tvt.ToTensor(),\n",
    "            tvt.Normalize([0.5, 0.5, 0.5], [0.5, 0.5, 0.5])\n",
    "            ])\n",
    "        \n",
    "    def __len__(self):\n",
    "        \n",
    "        return len(self.filenames)\n",
    "\n",
    "    def __getitem__(self, index):\n",
    "        filename = self.filenames[index]\n",
    "        image = Image.open(filename)\n",
    "        if image.mode != 'RGB':\n",
    "            image = image.convert(mode='RGB')\n",
    "        tensor = self.augment(image)\n",
    "        label = re.findall(r'(\\w+)-(\\w+)-(\\d+)', filename.stem)[0][1]\n",
    "        label = self.LABELS.index(label)\n",
    "        return tensor, label"
   ]
  },
  {
   "cell_type": "code",
   "execution_count": null,
   "metadata": {},
   "outputs": [],
   "source": [
    "dataset = HW4Dataset('git/ece60146/data/hw4_dataset', 'train')"
   ]
  },
  {
   "cell_type": "code",
   "execution_count": null,
   "metadata": {},
   "outputs": [],
   "source": [
    "dataset.filenames;"
   ]
  },
  {
   "cell_type": "code",
   "execution_count": null,
   "metadata": {},
   "outputs": [],
   "source": [
    "print(len(dataset))"
   ]
  },
  {
   "cell_type": "code",
   "execution_count": null,
   "metadata": {},
   "outputs": [],
   "source": [
    "dataloader = DataLoader(dataset, batch_size=8, shuffle=True)"
   ]
  },
  {
   "cell_type": "code",
   "execution_count": null,
   "metadata": {},
   "outputs": [],
   "source": [
    "print(len(dataloader))"
   ]
  },
  {
   "cell_type": "code",
   "execution_count": null,
   "metadata": {},
   "outputs": [],
   "source": [
    "next(iter(dataloader));"
   ]
  },
  {
   "cell_type": "code",
   "execution_count": null,
   "metadata": {},
   "outputs": [],
   "source": [
    "class HW4Net(nn.Module):\n",
    "    def __init__(self) -> None:\n",
    "        super().__init__()\n",
    "        self.conv1 = nn.Conv2d(3, 16, 3)\n",
    "        self.pool = nn.MaxPool2d(2, 2)\n",
    "        self.conv2 = nn.Conv2d(16, 32, 3)\n",
    "        self.fc1 = nn.Linear(6272, 64)\n",
    "        self.fc2 = nn.Linear(64, 5)\n",
    "\n",
    "    def forward(self, x):\n",
    "        x = self.pool(F.relu(self.conv1(x)))\n",
    "        x = F.relu(self.conv2(x))\n",
    "        x = self.pool(x)\n",
    "        x = x.view(x.shape[0], -1)\n",
    "        x = F.relu(self.fc1(x))\n",
    "        x = self.fc2(x)\n",
    "\n",
    "        return x\n",
    "model = HW4Net().to(device)\n",
    "loss_fn = nn.CrossEntropyLoss()\n",
    "optimizer = torch.optim.Adam(\n",
    "    model.parameters(), \n",
    "    lr=1e-3,\n",
    "    betas=(0.9, 0.99)\n",
    ")"
   ]
  },
  {
   "cell_type": "code",
   "execution_count": null,
   "metadata": {},
   "outputs": [],
   "source": [
    "model.train()\n",
    "running_loss = 0\n",
    "for batch, data in enumerate(dataloader):\n",
    "    images = data[0].to(device)\n",
    "    labels = data[1].to(device)\n",
    "    prediction = model(images)\n",
    "    loss = loss_fn(prediction, labels)\n",
    "    optimizer.zero_grad()\n",
    "    loss.backward()\n",
    "    optimizer.step()\n",
    "    running_loss += loss.item()\n",
    "    if (batch+1) % 100 == 0:\n",
    "        print(f'Batch {batch+1:4}: Loss = {running_loss/100:5.3f}')\n",
    "        running_loss = 0"
   ]
  }
 ],
 "metadata": {
  "kernelspec": {
   "display_name": "ece60146",
   "language": "python",
   "name": "python3"
  },
  "language_info": {
   "codemirror_mode": {
    "name": "ipython",
    "version": 3
   },
   "file_extension": ".py",
   "mimetype": "text/x-python",
   "name": "python",
   "nbconvert_exporter": "python",
   "pygments_lexer": "ipython3",
   "version": "3.8.15"
  },
  "orig_nbformat": 4,
  "vscode": {
   "interpreter": {
    "hash": "50430a5f9394b5177dfb33383fd6d2a3901538d6aff77fb192d9f5c22f3780d9"
   }
  }
 },
 "nbformat": 4,
 "nbformat_minor": 2
}
