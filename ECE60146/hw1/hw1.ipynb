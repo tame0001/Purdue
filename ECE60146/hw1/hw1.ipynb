{
 "cells": [
  {
   "cell_type": "code",
   "execution_count": 10,
   "metadata": {},
   "outputs": [],
   "source": [
    "class Sequence(object):\n",
    "    '''\n",
    "    The base class. The array is defined in this class.\n",
    "    This class is iterable so all children inherit this.\n",
    "    '''\n",
    "    def __init__(self, array) -> None:\n",
    "        self.array:list = array # store array at base class\n",
    "        self.index = -1 # index for iteration\n",
    "    \n",
    "    def __len__(self): # for len(..)\n",
    "        return len(self.array)\n",
    "    \n",
    "    def __iter__(self): # for make the class iterable\n",
    "        return self\n",
    "\n",
    "    def __next__(self):\n",
    "        self.index += 1 # move index\n",
    "        if self.index < len(self.array): \n",
    "            # check if index in in valid range\n",
    "            return self.array[self.index]\n",
    "        else:\n",
    "            raise StopIteration\n",
    "\n",
    "    def __gt__(self, other): # for comparison \n",
    "        count = 0\n",
    "        if len(self) != len(other):\n",
    "            # check if two arrays are the same length\n",
    "            raise ValueError('Two arrays are not equal in length!')\n",
    "        for x, y in zip(self, other):\n",
    "            if x > y: \n",
    "                count += 1\n",
    "        return count"
   ]
  },
  {
   "cell_type": "code",
   "execution_count": 11,
   "metadata": {},
   "outputs": [],
   "source": [
    "class Fibonacci(Sequence):\n",
    "    '''\n",
    "    The Fibonacci class. This class takes 2 parameters at initation.\n",
    "    '''\n",
    "    def __init__(self, first_value, second_value) -> None:\n",
    "        super().__init__([first_value, second_value])\n",
    "        \n",
    "    def __call__(self, length) -> list:\n",
    "        # the first two are defined during initiation.\n",
    "        # only add the remaining \n",
    "        for _ in range(length-2):\n",
    "            # sum of the last two elements\n",
    "            self.array.append(self.array[-1]+self.array[-2])\n",
    "        if length < len(self.array): \n",
    "            # for the case that call with length that less than current length\n",
    "            self.array = self.array[:length]\n",
    "        return self.array\n"
   ]
  },
  {
   "cell_type": "code",
   "execution_count": 12,
   "metadata": {},
   "outputs": [
    {
     "data": {
      "text/plain": [
       "[1, 2, 3, 5, 8]"
      ]
     },
     "execution_count": 12,
     "metadata": {},
     "output_type": "execute_result"
    }
   ],
   "source": [
    "FS = Fibonacci(first_value=1, second_value=2)\n",
    "FS(length=5)\n",
    "# create a Fibonacci class's instance and with 5 elements"
   ]
  },
  {
   "cell_type": "code",
   "execution_count": 13,
   "metadata": {},
   "outputs": [
    {
     "name": "stdout",
     "output_type": "stream",
     "text": [
      "5\n",
      "[1, 2, 3, 5, 8]\n"
     ]
    }
   ],
   "source": [
    "print(len(FS)) # lenght is 5\n",
    "print([n for n in FS]) # the instance is iterable"
   ]
  },
  {
   "cell_type": "code",
   "execution_count": 14,
   "metadata": {},
   "outputs": [],
   "source": [
    "class Prime(Sequence):\n",
    "    '''\n",
    "    This class only shows prime numbers. \n",
    "    '''\n",
    "    def __init__(self) -> None:\n",
    "        # Initiation with an empty array\n",
    "        super().__init__([])\n",
    "\n",
    "    def __call__(self, length) -> list:\n",
    "        prime_candidate = 2 # the first prime number\n",
    "        while len(self.array) < length: \n",
    "            # loop until meet the required lenght\n",
    "            while not self.is_prime(prime_candidate):\n",
    "                # loop to find the next prime\n",
    "                prime_candidate += 1\n",
    "            self.array.append(prime_candidate)\n",
    "            prime_candidate += 1\n",
    "        if length < len(self.array):\n",
    "            # for the case that call with length that less than current length\n",
    "            self.array = self.array[:length]\n",
    "        \n",
    "        return self.array\n",
    "    \n",
    "    def is_prime(self, prime_candidate) -> bool:\n",
    "        # testing until its square root is enough to prove\n",
    "        for i in range(2, int(prime_candidate**0.5)+1):\n",
    "            if prime_candidate % i == 0:\n",
    "                return False\n",
    "        return True\n"
   ]
  },
  {
   "cell_type": "code",
   "execution_count": 15,
   "metadata": {},
   "outputs": [
    {
     "data": {
      "text/plain": [
       "[2, 3, 5, 7, 11, 13, 17, 19]"
      ]
     },
     "execution_count": 15,
     "metadata": {},
     "output_type": "execute_result"
    }
   ],
   "source": [
    "PS = Prime()\n",
    "PS(length=8)\n",
    "# create a Prime class's instance and with 8 elements"
   ]
  },
  {
   "cell_type": "code",
   "execution_count": 16,
   "metadata": {},
   "outputs": [
    {
     "name": "stdout",
     "output_type": "stream",
     "text": [
      "8\n",
      "[2, 3, 5, 7, 11, 13, 17, 19]\n"
     ]
    }
   ],
   "source": [
    "print(len(PS)) # length is 8\n",
    "print([n for n in PS]) # the instance is iterable"
   ]
  },
  {
   "cell_type": "code",
   "execution_count": 17,
   "metadata": {},
   "outputs": [
    {
     "name": "stdout",
     "output_type": "stream",
     "text": [
      "2\n"
     ]
    }
   ],
   "source": [
    "# create an instance from each class with 8 elements\n",
    "FS = Fibonacci(first_value=1, second_value=2)\n",
    "FS(length=8)\n",
    "PS = Prime()\n",
    "PS(length=8)\n",
    "# compare elements in both class\n",
    "print(FS > PS)"
   ]
  },
  {
   "cell_type": "code",
   "execution_count": 18,
   "metadata": {},
   "outputs": [
    {
     "ename": "ValueError",
     "evalue": "Two arrays are not equal in length !",
     "output_type": "error",
     "traceback": [
      "\u001b[1;31m---------------------------------------------------------------------------\u001b[0m",
      "\u001b[1;31mValueError\u001b[0m                                Traceback (most recent call last)",
      "\u001b[1;32mc:\\Users\\abe107pheno\\Desktop\\Tam Projects\\ece60146\\hw1.ipynb Cell 9\u001b[0m in \u001b[0;36m<cell line: 2>\u001b[1;34m()\u001b[0m\n\u001b[0;32m      <a href='vscode-notebook-cell:/c%3A/Users/abe107pheno/Desktop/Tam%20Projects/ece60146/hw1.ipynb#X11sZmlsZQ%3D%3D?line=0'>1</a>\u001b[0m PS(length\u001b[39m=\u001b[39m\u001b[39m5\u001b[39m)\n\u001b[1;32m----> <a href='vscode-notebook-cell:/c%3A/Users/abe107pheno/Desktop/Tam%20Projects/ece60146/hw1.ipynb#X11sZmlsZQ%3D%3D?line=1'>2</a>\u001b[0m \u001b[39mprint\u001b[39m(FS \u001b[39m>\u001b[39;49m PS)\n",
      "\u001b[1;32mc:\\Users\\abe107pheno\\Desktop\\Tam Projects\\ece60146\\hw1.ipynb Cell 9\u001b[0m in \u001b[0;36mSequence.__gt__\u001b[1;34m(self, other)\u001b[0m\n\u001b[0;32m     <a href='vscode-notebook-cell:/c%3A/Users/abe107pheno/Desktop/Tam%20Projects/ece60146/hw1.ipynb#X11sZmlsZQ%3D%3D?line=24'>25</a>\u001b[0m count \u001b[39m=\u001b[39m \u001b[39m0\u001b[39m\n\u001b[0;32m     <a href='vscode-notebook-cell:/c%3A/Users/abe107pheno/Desktop/Tam%20Projects/ece60146/hw1.ipynb#X11sZmlsZQ%3D%3D?line=25'>26</a>\u001b[0m \u001b[39mif\u001b[39;00m \u001b[39mlen\u001b[39m(\u001b[39mself\u001b[39m) \u001b[39m!=\u001b[39m \u001b[39mlen\u001b[39m(other):\n\u001b[0;32m     <a href='vscode-notebook-cell:/c%3A/Users/abe107pheno/Desktop/Tam%20Projects/ece60146/hw1.ipynb#X11sZmlsZQ%3D%3D?line=26'>27</a>\u001b[0m     \u001b[39m# check if two arrays are the same length\u001b[39;00m\n\u001b[1;32m---> <a href='vscode-notebook-cell:/c%3A/Users/abe107pheno/Desktop/Tam%20Projects/ece60146/hw1.ipynb#X11sZmlsZQ%3D%3D?line=27'>28</a>\u001b[0m     \u001b[39mraise\u001b[39;00m \u001b[39mValueError\u001b[39;00m(\u001b[39m'\u001b[39m\u001b[39mTwo arrays are not equal in length !\u001b[39m\u001b[39m'\u001b[39m)\n\u001b[0;32m     <a href='vscode-notebook-cell:/c%3A/Users/abe107pheno/Desktop/Tam%20Projects/ece60146/hw1.ipynb#X11sZmlsZQ%3D%3D?line=28'>29</a>\u001b[0m \u001b[39mfor\u001b[39;00m x, y \u001b[39min\u001b[39;00m \u001b[39mzip\u001b[39m(\u001b[39mself\u001b[39m, other):\n\u001b[0;32m     <a href='vscode-notebook-cell:/c%3A/Users/abe107pheno/Desktop/Tam%20Projects/ece60146/hw1.ipynb#X11sZmlsZQ%3D%3D?line=29'>30</a>\u001b[0m     \u001b[39mif\u001b[39;00m x \u001b[39m>\u001b[39m y: \n",
      "\u001b[1;31mValueError\u001b[0m: Two arrays are not equal in length !"
     ]
    }
   ],
   "source": [
    "PS(length=5)\n",
    "# modify Prime instance to 5 element\n",
    "# the error is raised\n",
    "print(FS > PS)"
   ]
  }
 ],
 "metadata": {
  "kernelspec": {
   "display_name": "plantcv",
   "language": "python",
   "name": "python3"
  },
  "language_info": {
   "codemirror_mode": {
    "name": "ipython",
    "version": 3
   },
   "file_extension": ".py",
   "mimetype": "text/x-python",
   "name": "python",
   "nbconvert_exporter": "python",
   "pygments_lexer": "ipython3",
   "version": "3.10.4"
  },
  "orig_nbformat": 4,
  "vscode": {
   "interpreter": {
    "hash": "e6b6cd9e403291d1bce8bc0c16173e4ae672e7e6f91d829a3e3aeb5a79923d51"
   }
  }
 },
 "nbformat": 4,
 "nbformat_minor": 2
}
