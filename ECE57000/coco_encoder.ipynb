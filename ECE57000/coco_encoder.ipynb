{
 "cells": [
  {
   "cell_type": "markdown",
   "metadata": {},
   "source": [
    "This file is for creating COCO-format traingin data set. The COCO format is required for FCOS source code version. "
   ]
  },
  {
   "cell_type": "code",
   "execution_count": null,
   "metadata": {},
   "outputs": [],
   "source": [
    "import h5py\n",
    "import json\n",
    "import numpy as np\n",
    "import cv2 as cv\n",
    "from pathlib import Path\n",
    "from tqdm import tqdm"
   ]
  },
  {
   "cell_type": "code",
   "execution_count": null,
   "metadata": {},
   "outputs": [],
   "source": [
    "path = Path('/home/tam/') / 'git' / 'cvppp2017_dataset'"
   ]
  },
  {
   "cell_type": "code",
   "execution_count": null,
   "metadata": {},
   "outputs": [],
   "source": [
    "truth = h5py.File(path / 'CVPPP2017_training_truth.h5')"
   ]
  },
  {
   "cell_type": "code",
   "execution_count": null,
   "metadata": {},
   "outputs": [],
   "source": [
    "info = {\n",
    "    \"description\": \"CVPPP2017 Leaf Segmentation Challenge Dataset\",\n",
    "    \"year\": 2022,\n",
    "}"
   ]
  },
  {
   "cell_type": "code",
   "execution_count": null,
   "metadata": {},
   "outputs": [],
   "source": [
    "licenses = [\n",
    "    {\n",
    "        \"url\": \"http://creativecommons.org/licenses/by-nc/2.0/\",\n",
    "        \"id\": 2,\n",
    "        \"name\": \"Attribution-NonCommercial License\"\n",
    "    }\n",
    "]"
   ]
  },
  {
   "cell_type": "code",
   "execution_count": null,
   "metadata": {},
   "outputs": [],
   "source": [
    "categories = [\n",
    "    {\n",
    "        \"supercategory\": \"plant\",\n",
    "        \"id\": 1,\n",
    "        \"name\": \"leaf\"},\n",
    "]"
   ]
  },
  {
   "cell_type": "markdown",
   "metadata": {},
   "source": [
    "Before is the code that will extract leaf from the ground truth info and complie in the COCO-format"
   ]
  },
  {
   "cell_type": "code",
   "execution_count": null,
   "metadata": {},
   "outputs": [],
   "source": [
    "images = []\n",
    "annotations = []\n",
    "image_id = 1\n",
    "annotation_id = 1\n",
    "for plant_id in tqdm(truth['A1'].keys()):\n",
    "    image_name = truth['A1'][plant_id]['label_filename'][()].decode('ascii')\n",
    "    h, w= truth['A1'][plant_id]['label'][()].shape\n",
    "    images.append({\n",
    "        \"license\": 2,\n",
    "        \"file_name\": image_name,\n",
    "        \"height\": h,\n",
    "        \"width\": w,\n",
    "        \"id\": image_id\n",
    "    })\n",
    "\n",
    "    for leaf_id in range(1, np.unique(truth['A1'][plant_id]['label'][()]).max()+1):\n",
    "        mask = (truth['A1'][plant_id]['label'][()] == leaf_id).astype(np.uint8)\n",
    "        contours, hierarchy = cv.findContours(mask, cv.RETR_TREE, cv.CHAIN_APPROX_SIMPLE)\n",
    "        annotations.append({\n",
    "            \"segmentation\": contours[0].ravel().tolist(),\n",
    "            \"area\": cv.contourArea(contours[0]),\n",
    "            \"iscrowd\": 0,\n",
    "            \"image_id\": image_id,\n",
    "            \"bbox\": list(cv.boundingRect(contours[0])),\n",
    "            \"category_id\": 1,\n",
    "            \"id\": annotation_id\n",
    "        })\n",
    "\n",
    "        annotation_id += 1\n",
    "    image_id += 1\n"
   ]
  },
  {
   "cell_type": "code",
   "execution_count": null,
   "metadata": {},
   "outputs": [],
   "source": [
    "coco_info = {}\n",
    "coco_info['info'] = info\n",
    "coco_info['licenses'] = licenses\n",
    "coco_info['images'] = images\n",
    "coco_info['annotations'] = annotations\n",
    "coco_info['categories'] = categories"
   ]
  },
  {
   "cell_type": "code",
   "execution_count": null,
   "metadata": {},
   "outputs": [],
   "source": [
    "with open('coco_label.json', 'w') as fo:\n",
    "    fo.write(json.dumps(coco_info))"
   ]
  }
 ],
 "metadata": {
  "kernelspec": {
   "display_name": "Python 3.10.6 ('ece570')",
   "language": "python",
   "name": "python3"
  },
  "language_info": {
   "codemirror_mode": {
    "name": "ipython",
    "version": 3
   },
   "file_extension": ".py",
   "mimetype": "text/x-python",
   "name": "python",
   "nbconvert_exporter": "python",
   "pygments_lexer": "ipython3",
   "version": "3.9.15"
  },
  "orig_nbformat": 4,
  "vscode": {
   "interpreter": {
    "hash": "e07d3286536fa640db5ffb19e9a7b41b55ebd05c0b6a503c91ed85ccfac829dd"
   }
  }
 },
 "nbformat": 4,
 "nbformat_minor": 2
}
