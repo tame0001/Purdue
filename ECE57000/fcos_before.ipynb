{
 "cells": [
  {
   "cell_type": "markdown",
   "metadata": {},
   "source": [
    "This notebook is for getting the result from pre-train model"
   ]
  },
  {
   "cell_type": "code",
   "execution_count": null,
   "metadata": {},
   "outputs": [],
   "source": [
    "import torch\n",
    "import torchvision\n",
    "import h5py\n",
    "import cv2 as cv\n",
    "import matplotlib.pyplot as plt\n",
    "from pathlib import Path\n",
    "from tqdm import tqdm\n",
    "from PIL import Image\n",
    "from torchvision.utils import draw_bounding_boxes\n",
    "from torchvision.transforms.functional import to_pil_image"
   ]
  },
  {
   "cell_type": "code",
   "execution_count": null,
   "metadata": {},
   "outputs": [],
   "source": [
    "device = torch.device('cuda')"
   ]
  },
  {
   "cell_type": "code",
   "execution_count": null,
   "metadata": {},
   "outputs": [],
   "source": [
    "weights = torchvision.models.detection.FCOS_ResNet50_FPN_Weights.DEFAULT\n",
    "model = torchvision.models.detection.fcos_resnet50_fpn(weights=weights).to(device)\n",
    "model.eval();\n",
    "transform = weights.transforms()"
   ]
  },
  {
   "cell_type": "code",
   "execution_count": null,
   "metadata": {},
   "outputs": [],
   "source": [
    "path = Path('/home/tam/') / 'git' / 'cvppp2017_dataset'\n",
    "training = h5py.File(path / 'CVPPP2017_training_images.h5')\n",
    "truth = h5py.File(path / 'CVPPP2017_training_truth.h5')"
   ]
  },
  {
   "cell_type": "code",
   "execution_count": null,
   "metadata": {},
   "outputs": [],
   "source": [
    "dataset = 'A4' # Change data set from A1, A2, A3 or A4"
   ]
  },
  {
   "cell_type": "code",
   "execution_count": null,
   "metadata": {},
   "outputs": [],
   "source": [
    "result = {}\n",
    "with torch.no_grad():\n",
    "    for plant_id in tqdm(training[dataset].keys()):\n",
    "        image = Image.fromarray(training[dataset][plant_id]['rgb'][:, :, :3])\n",
    "        image = transform(image).to(device)\n",
    "        prediction = model([image])\n",
    "        image.detach()\n",
    "        result.update({plant_id: prediction})"
   ]
  },
  {
   "cell_type": "code",
   "execution_count": null,
   "metadata": {},
   "outputs": [],
   "source": [
    "for plant_id in tqdm(training[dataset].keys()):\n",
    "    image = Image.fromarray(training[dataset][plant_id]['rgb'][:, :, :3])\n",
    "    box = draw_bounding_boxes(\n",
    "        torchvision.transforms.Compose([torchvision.transforms.PILToTensor()])(image), \n",
    "        result[plant_id][0][\"boxes\"],\n",
    "        [weights.meta['categories'][i] for i in result[plant_id][0][\"labels\"]],\n",
    "        colors='red')\n",
    "    to_pil_image(box.detach()).save(path / 'result' / f'{dataset}-{plant_id}-pretrain.png')"
   ]
  }
 ],
 "metadata": {
  "kernelspec": {
   "display_name": "Python 3.10.6 ('ece570')",
   "language": "python",
   "name": "python3"
  },
  "language_info": {
   "codemirror_mode": {
    "name": "ipython",
    "version": 3
   },
   "file_extension": ".py",
   "mimetype": "text/x-python",
   "name": "python",
   "nbconvert_exporter": "python",
   "pygments_lexer": "ipython3",
   "version": "3.9.15"
  },
  "orig_nbformat": 4,
  "vscode": {
   "interpreter": {
    "hash": "e07d3286536fa640db5ffb19e9a7b41b55ebd05c0b6a503c91ed85ccfac829dd"
   }
  }
 },
 "nbformat": 4,
 "nbformat_minor": 2
}
